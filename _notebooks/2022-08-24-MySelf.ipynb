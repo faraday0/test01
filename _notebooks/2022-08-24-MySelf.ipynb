{
 "cells": [
  {
   "cell_type": "markdown",
   "metadata": {},
   "source": [
    "My Blog\n",
    "=======\n",
    "\n",
    "# Nice to meet you!! Have a nice day.."
   ]
  }
 ],
 "metadata": {
  "language_info": {
   "name": "python"
  },
  "orig_nbformat": 4
 },
 "nbformat": 4,
 "nbformat_minor": 2
}
